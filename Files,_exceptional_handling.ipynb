{
  "nbformat": 4,
  "nbformat_minor": 0,
  "metadata": {
    "colab": {
      "provenance": []
    },
    "kernelspec": {
      "name": "python3",
      "display_name": "Python 3"
    },
    "language_info": {
      "name": "python"
    }
  },
  "cells": [
    {
      "cell_type": "markdown",
      "source": [
        "# Theory Questions\n",
        "1.  What is the difference between interpreted and compiled languages?\n",
        "- Interpreted languages run the code line by line, using an interpreter.\n",
        "\n",
        "- Compiled languages first translate the whole code into machine language (binary) before running.\n",
        "\n",
        "2.  What is exception handling in Python?\n",
        "- Exception handling in Python is a way to deal with errors in your program without crashing it.\n",
        "\n",
        "In Easy Words:\n",
        "Sometimes, something goes wrong in a program — like dividing by zero or opening a missing file.\n",
        "Instead of stopping the program, Python lets you handle the error using:\n",
        "\n",
        "try: Code that might cause an error\n",
        "\n",
        "except: Code that runs if there’s an error\n",
        "\n",
        "finally: (Optional) Code that always runs\n",
        "\n",
        "3.  What is the purpose of the finally block in exception handling?\n",
        "- The finally block in Python is used to write code that will always run, no matter what happens—whether there’s an error or not.\n",
        "\n",
        " Purpose of finally:\n",
        "To clean up resources like closing a file or disconnecting from a database\n",
        "\n",
        "To make sure important steps are always completed, even if there's an error\n",
        "\n",
        "4. What is logging in Python?\n",
        "- Logging in Python means keeping a record of events that happen when your code runs. It helps in tracking bugs, understanding program flow, and debugging errors—especially in large programs\n",
        "\n",
        "5. What is the significance of the __del__ method in Python?\n",
        "- The __del__ method in Python is a special method called a destructor. Its main purpose is to define what should happen when an object is deleted or destroyed.\n",
        "\n",
        "6. What is the difference between import and from ... import in Python?\n",
        "- In Python, both import and from ... import are used to include external modules in your code, but they work a bit differently:\n",
        "\n",
        "import statement:\n",
        "It imports the entire module.\n",
        "\n",
        "You have to use the module name every time you access something from it.\n",
        "\n",
        "from ... import statement:\n",
        "It imports specific parts (like functions, classes, variables) from a module.\n",
        "\n",
        "You can use them directly without the module name.\n",
        "\n",
        "7. How can you handle multiple exceptions in Python?\n",
        "- In Python, multiple exceptions can be handled using multiple except blocks. Each except block can catch a specific type of exception and respond accordingly. This allows a program to manage different error conditions in a structured way.\n",
        "\n",
        "8.  What is the purpose of the with statement when handling files in Python?\n",
        "- The with statement is used to handle files safely and automatically in Python. It ensures that the file is properly opened and automatically closed after its block of code runs — even if an error occurs.\n",
        "\n",
        "This makes the code cleaner and prevents issues like forgetting to close the file.\n",
        "\n",
        "9.  What is the difference between multithreading and multiprocessing?\n",
        "- Multithreading is when a program runs multiple tasks (threads) at the same time within the same process. They share memory and are best for tasks like downloading files or reading data while doing other work.\n",
        "\n",
        "- Multiprocessing is when a program runs multiple tasks using separate processes. Each process has its own memory. It’s better for tasks that need a lot of CPU power like data analysis or image processing.\n",
        "\n",
        "10. What are the advantages of using logging in a program?\n",
        "- Advantages of Using Logging in a Program:\n",
        "Tracks Program Flow:\n",
        "Helps you understand the sequence of operations in your program.\n",
        "\n",
        "Helps Debug Errors:\n",
        "Makes it easier to find and fix bugs by checking recorded log messages.\n",
        "\n",
        "Records Important Events:\n",
        "Keeps a record of actions such as user logins, file uploads, or failures.\n",
        "\n",
        "Better Than print():\n",
        "Offers more control, like setting log levels (info, warning, error).\n",
        "\n",
        "Saves to Files:\n",
        "Logs can be stored in files, which is useful for long-term monitoring.\n",
        "\n",
        "11. What is memory management in Python?\n",
        "- Memory management in Python is the process of handling the allocation and deallocation of memory automatically while the program runs. Python manages memory using:\n",
        "\n",
        "Automatic Garbage Collection – Unused memory is freed automatically.\n",
        "\n",
        "Reference Counting – Python keeps track of how many references exist for each object. When the count reaches zero, memory is released.\n",
        "\n",
        "Memory Pools – Python uses private memory pools (like the PyMalloc allocator) for efficient memory usage.\n",
        "\n",
        "In short, Python takes care of memory in the background so you can focus on writing code.\n",
        "\n",
        "12.  What are the basic steps involved in exception handling in Python?\n",
        "- Steps in Exception Handling in Python:\n",
        "Try Block:\n",
        "Write the code that might cause an error inside the try block.\n",
        "\n",
        "Except Block:\n",
        "Handle the error using the except block. You can catch specific exceptions or use a general one.\n",
        "\n",
        "Else Block (optional):\n",
        "Code in else runs if no error occurs in the try block.\n",
        "\n",
        "Finally Block (optional):\n",
        "This block runs no matter what — error or no error. Used for cleanup actions like closing files.\n",
        "\n",
        "13. Why is memory management important in Python?\n",
        "- Why Memory Management is Important in Python:\n",
        "\n",
        "Efficient Resource Usage:\n",
        "It ensures that the program uses only the memory it needs, avoiding wastage.\n",
        "\n",
        "Prevents Memory Leaks:\n",
        "Proper memory management helps prevent memory from being occupied unnecessarily for long periods.\n",
        "\n",
        "Improves Performance:\n",
        "By managing memory efficiently, Python programs run faster and more smoothly.\n",
        "\n",
        "Automatic Garbage Collection:\n",
        "Python uses automatic garbage collection to reclaim unused memory, which helps in maintaining optimal memory usage.\n",
        "\n",
        "Supports Large Applications:\n",
        "Effective memory management allows Python to handle large datasets and applications without crashing.\n",
        "\n",
        "14.  What is the role of try and except in exception handling?\n",
        "- Why Memory Management is Important in Python:\n",
        "Efficient Resource Usage:\n",
        "It ensures that the program uses only the memory it needs, avoiding wastage.\n",
        "\n",
        "Prevents Memory Leaks:\n",
        "Proper memory management helps prevent memory from being occupied unnecessarily for long periods.\n",
        "\n",
        "Improves Performance:\n",
        "By managing memory efficiently, Python programs run faster and more smoothly.\n",
        "\n",
        "Automatic Garbage Collection:\n",
        "Python uses automatic garbage collection to reclaim unused memory, which helps in maintaining optimal memory usage.\n",
        "\n",
        "Supports Large Applications:\n",
        "Effective memory management allows Python to handle large datasets and applications without crashing.\n",
        "\n",
        "15. How does Python's garbage collection system work?\n",
        "- Python uses automatic garbage collection to manage memory. Here's how it works:\n",
        "\n",
        "Reference Counting:\n",
        "\n",
        "Every object in Python has a reference count.\n",
        "\n",
        "When an object is created, its count increases.\n",
        "\n",
        "When it’s no longer used (no references), the count decreases.\n",
        "\n",
        "If the count becomes zero, the object is deleted from memory.\n",
        "\n",
        "Garbage Collector (GC):\n",
        "\n",
        "Python also has a garbage collector to detect cyclic references (when objects reference each other and are no longer reachable).\n",
        "\n",
        "The GC runs automatically at intervals and removes these unused objects.\n",
        "\n",
        "Generational Collection:\n",
        "\n",
        "Python divides objects into three generations (0, 1, 2).\n",
        "\n",
        "New objects are in Generation 0.\n",
        "\n",
        "If they survive garbage collection, they move to higher generations.\n",
        "\n",
        "Older generations are collected less frequently.\n",
        "\n",
        "16. What is the purpose of the else block in exception handling?\n",
        "- Purpose of the else block in exception handling in Python:\n",
        "The else block in exception handling is used to write code that should run only if no exception occurs in the try block.\n",
        "\n",
        "17.  What are the common logging levels in Python?\n",
        "- In Python's logging module, there are five common logging levels, each indicating the severity of an event:\n",
        "\n",
        "DEBUG\n",
        "\n",
        "Level: 10\n",
        "\n",
        "Used for detailed diagnostic information, typically useful only during development.\n",
        "\n",
        "INFO\n",
        "\n",
        "Level: 20\n",
        "\n",
        "Used to confirm that things are working as expected.\n",
        "\n",
        "WARNING\n",
        "\n",
        "Level: 30\n",
        "\n",
        "Indicates something unexpected happened, or an issue is likely to happen, but the program is still running.\n",
        "\n",
        "ERROR\n",
        "\n",
        "Level: 40\n",
        "\n",
        "Indicates a serious problem that prevented a function or operation from completing.\n",
        "\n",
        "CRITICAL\n",
        "\n",
        "Level: 50\n",
        "\n",
        "Indicates a very serious error that may stop the program entirely.\n",
        "\n",
        "18. What is the difference between os.fork() and multiprocessing in Python?\n",
        "- The difference between os.fork() and the multiprocessing module in Python mainly lies in portability, ease of use, and functionality:\n",
        "\n",
        "os.fork()\n",
        "What it does: Creates a new child process by duplicating the current process.\n",
        "\n",
        "Platform: Only available on Unix/Linux systems (not supported on Windows).\n",
        "\n",
        "Low-level: It's a system call that requires manual handling of process communication and synchronization.\n",
        "\n",
        "Complexity: Harder to manage for complex applications.\n",
        "\n",
        "- multiprocessing Module:\n",
        "What it does: Provides a high-level interface to create and manage processes.\n",
        "\n",
        "Platform: Cross-platform (works on Windows, macOS, and Linux).\n",
        "\n",
        "Built-in tools: Comes with features like Process, Queue, Pool, Lock, etc.\n",
        "\n",
        "Easier and safer: Especially for beginners or large programs.\n",
        "\n",
        "19. What is the importance of closing a file in Python?\n",
        "- Closing a file in Python is important for several reasons:\n",
        "\n",
        "Frees up system resources: Open files consume system resources. Closing them releases those resources.\n",
        "\n",
        "Saves data properly: When writing to a file, data is often stored in a buffer. Closing the file ensures all data is written (flushed) to the disk.\n",
        "\n",
        "Avoids file corruption: Keeping a file open unnecessarily can lead to data corruption, especially if the program crashes.\n",
        "\n",
        "Allows other programs to access the file: Some systems lock a file when it's open. Closing it allows other programs or users to use it.\n",
        "\n",
        "20.  What is the difference between file.read() and file.readline() in Python?\n",
        "- file.read()\n",
        "Reads the entire contents of the file as a single string.\n",
        "\n",
        "Useful when you want to load all data at once.\n",
        "\n",
        "- file.readline()\n",
        "Reads only one line from the file at a time.\n",
        "\n",
        "Useful when processing large files line by line.\n",
        "\n",
        "21. What is the logging module in Python used for?\n",
        "- The logging module in Python is used to record messages that describe events in a program. It helps in debugging, monitoring, and tracking errors or important runtime information without using print() statements.\n",
        "\n",
        "22. What is the os module in Python used for in file handling?\n",
        "- The os module in Python is used to interact with the operating system, especially for file and directory handling.\n",
        "\n",
        "In file handling, os module is used for:\n",
        "Creating directories and files\n",
        "\n",
        "Checking if a file or directory exists\n",
        "\n",
        "Renaming or removing files and folders\n",
        "\n",
        "Navigating the file system (os.getcwd(), os.chdir())\n",
        "\n",
        "Getting file info like size or modification time\n",
        "\n",
        "23. What are the challenges associated with memory management in Python?\n",
        "- the main challenges associated with memory management in Python:\n",
        "\n",
        "Reference Cycles\n",
        "Python uses reference counting, but when two or more objects reference each other, they can create a cycle that the garbage collector may not collect immediately.\n",
        "\n",
        "Memory Leaks\n",
        "Poor coding practices (like keeping unnecessary references or large global variables) can prevent memory from being released, leading to memory leaks.\n",
        "\n",
        "Inefficient Use of Large Data Structures\n",
        "Using large lists, dictionaries, or nested objects without optimization can consume a lot of memory unnecessarily.\n",
        "\n",
        "Manual Control Limitations\n",
        "Unlike languages like C, Python doesn’t give developers full control over memory allocation or deallocation, which may be a problem in high-performance applications.\n",
        "\n",
        "Third-Party Modules\n",
        "Some external libraries may not release memory properly or can interfere with Python's garbage collection.\n",
        "\n",
        "24. How do you raise an exception manually in Python?\n",
        "- In Python, you can raise an exception manually using the raise keyword followed by the exception type.\n",
        "- Syntax:\n",
        "raise ExceptionType(\"Custom error message\")\n",
        "\n",
        "\n",
        "25. Why is it important to use multithreading in certain applications?\n",
        "- Using multithreading is important in certain applications because it helps improve performance and responsiveness, especially in programs that perform multiple tasks simultaneously.\n",
        "\n",
        "Example:\n",
        "In a web server, multithreading allows it to handle multiple client requests at the same time without blocking the others.\n"
      ],
      "metadata": {
        "id": "C82rNTsvcDmb"
      }
    },
    {
      "cell_type": "markdown",
      "source": [
        "# Practical Questions\n"
      ],
      "metadata": {
        "id": "reJtGR7PnEjs"
      }
    },
    {
      "cell_type": "code",
      "source": [
        "'''1. How can you open a file for writing in Python and write a string to it'''\n",
        "# Open a file named 'example.txt' in write mode\n",
        "file = open(\"example.txt\", \"w\")\n",
        "\n",
        "# Write a string to the file\n",
        "file.write(\"Hello, this is a sample text.\")\n",
        "\n",
        "# Close the file\n",
        "file.close()"
      ],
      "metadata": {
        "id": "b6yJZTxUnLbT"
      },
      "execution_count": 3,
      "outputs": []
    },
    {
      "cell_type": "code",
      "source": [
        "'''2. Write a Python program to read the contents of a file and print each line'''\n",
        "# Open the file in read mode\n",
        "with open(\"example.txt\", \"r\") as file:\n",
        "    # Loop through each line in the file\n",
        "    for line in file:\n",
        "        # Print the line (rstrip removes the newline character)\n",
        "        print(line.rstrip())"
      ],
      "metadata": {
        "colab": {
          "base_uri": "https://localhost:8080/"
        },
        "id": "XMkq1dotn9ak",
        "outputId": "7c32a3e7-fb80-4d2b-d8af-993ec2babd17"
      },
      "execution_count": 5,
      "outputs": [
        {
          "output_type": "stream",
          "name": "stdout",
          "text": [
            "Hello, this is a sample text.\n"
          ]
        }
      ]
    },
    {
      "cell_type": "code",
      "source": [
        "'''3.  How would you handle a case where the file doesn't exist while trying to open it for reading?'''\n",
        "'''To handle the case where a file doesn't exist, you can use a try-except block to catch the FileNotFoundError.'''\n",
        "try:\n",
        "    with open(\"exampl.txt\", \"r\") as file:\n",
        "        for line in file:\n",
        "            print(line.rstrip())\n",
        "except FileNotFoundError:\n",
        "    print(\"Error: The file does not exist.\")"
      ],
      "metadata": {
        "colab": {
          "base_uri": "https://localhost:8080/"
        },
        "id": "HLIRRW0qobjn",
        "outputId": "fa67f999-1437-4312-e0c8-f9886de58282"
      },
      "execution_count": 1,
      "outputs": [
        {
          "output_type": "stream",
          "name": "stdout",
          "text": [
            "Error: The file does not exist.\n"
          ]
        }
      ]
    },
    {
      "cell_type": "code",
      "source": [
        "'''4. Write a Python script that reads from one file and writes its content to another file?'''\n",
        "# Open the source file in read mode and the destination file in write mode\n",
        "with open(\"source.txt\", \"r\") as source_file:\n",
        "    content = source_file.read()  # Read all content from source file\n",
        "\n",
        "with open(\"destination.txt\", \"w\") as dest_file:\n",
        "    dest_file.write(content)  # Write the content to destination file\n",
        "\n",
        "print(\"Content copied successfully!\")\n"
      ],
      "metadata": {
        "colab": {
          "base_uri": "https://localhost:8080/",
          "height": 211
        },
        "id": "lTYUodk1Gkej",
        "outputId": "5c4a9ef8-1c9f-4833-d1ae-000a16e7652d"
      },
      "execution_count": 6,
      "outputs": [
        {
          "output_type": "error",
          "ename": "FileNotFoundError",
          "evalue": "[Errno 2] No such file or directory: 'source.txt'",
          "traceback": [
            "\u001b[0;31m---------------------------------------------------------------------------\u001b[0m",
            "\u001b[0;31mFileNotFoundError\u001b[0m                         Traceback (most recent call last)",
            "\u001b[0;32m<ipython-input-6-b67fb6b565c9>\u001b[0m in \u001b[0;36m<cell line: 0>\u001b[0;34m()\u001b[0m\n\u001b[1;32m      1\u001b[0m \u001b[0;34m'''4. Write a Python script that reads from one file and writes its content to another file?'''\u001b[0m\u001b[0;34m\u001b[0m\u001b[0;34m\u001b[0m\u001b[0m\n\u001b[1;32m      2\u001b[0m \u001b[0;31m# Open the source file in read mode and the destination file in write mode\u001b[0m\u001b[0;34m\u001b[0m\u001b[0;34m\u001b[0m\u001b[0m\n\u001b[0;32m----> 3\u001b[0;31m \u001b[0;32mwith\u001b[0m \u001b[0mopen\u001b[0m\u001b[0;34m(\u001b[0m\u001b[0;34m\"source.txt\"\u001b[0m\u001b[0;34m,\u001b[0m \u001b[0;34m\"r\"\u001b[0m\u001b[0;34m)\u001b[0m \u001b[0;32mas\u001b[0m \u001b[0msource_file\u001b[0m\u001b[0;34m:\u001b[0m\u001b[0;34m\u001b[0m\u001b[0;34m\u001b[0m\u001b[0m\n\u001b[0m\u001b[1;32m      4\u001b[0m     \u001b[0mcontent\u001b[0m \u001b[0;34m=\u001b[0m \u001b[0msource_file\u001b[0m\u001b[0;34m.\u001b[0m\u001b[0mread\u001b[0m\u001b[0;34m(\u001b[0m\u001b[0;34m)\u001b[0m  \u001b[0;31m# Read all content from source file\u001b[0m\u001b[0;34m\u001b[0m\u001b[0;34m\u001b[0m\u001b[0m\n\u001b[1;32m      5\u001b[0m \u001b[0;34m\u001b[0m\u001b[0m\n",
            "\u001b[0;31mFileNotFoundError\u001b[0m: [Errno 2] No such file or directory: 'source.txt'"
          ]
        }
      ]
    },
    {
      "cell_type": "code",
      "source": [
        "'''5. How would you catch and handle division by zero error in Python?'''\n",
        "try:\n",
        "    result = 10 / 0\n",
        "except ZeroDivisionError:\n",
        "    print(\"Error: Division by zero is not allowed.\")"
      ],
      "metadata": {
        "colab": {
          "base_uri": "https://localhost:8080/"
        },
        "id": "sUhx3YhNGoW4",
        "outputId": "f9b37175-2946-4a82-8e0f-c72da143e23c"
      },
      "execution_count": 2,
      "outputs": [
        {
          "output_type": "stream",
          "name": "stdout",
          "text": [
            "Error: Division by zero is not allowed.\n"
          ]
        }
      ]
    },
    {
      "cell_type": "code",
      "source": [
        "'''6. Write a Python program that logs an error message to a log file when a division by zero exception occurs?'''\n",
        "import logging\n",
        "\n",
        "# Set up logging configuration\n",
        "logging.basicConfig(filename='error_log.txt', level=logging.ERROR, format='%(asctime)s - %(levelname)s - %(message)s')\n",
        "\n",
        "try:\n",
        "    a = 10\n",
        "    b = 0\n",
        "    result = a / b\n",
        "except ZeroDivisionError as e:\n",
        "    logging.error(\"Division by zero error occurred: %s\", e)\n",
        "\n",
        "print(\"Program completed.\")"
      ],
      "metadata": {
        "colab": {
          "base_uri": "https://localhost:8080/"
        },
        "id": "Oi3DM27E9gbA",
        "outputId": "13977d9d-0fe9-436d-d3e2-95341b707d8b"
      },
      "execution_count": 4,
      "outputs": [
        {
          "output_type": "stream",
          "name": "stderr",
          "text": [
            "ERROR:root:Division by zero error occurred: division by zero\n"
          ]
        },
        {
          "output_type": "stream",
          "name": "stdout",
          "text": [
            "Program completed.\n"
          ]
        }
      ]
    },
    {
      "cell_type": "code",
      "source": [
        "'''7. How do you log information at different levels (INFO, ERROR, WARNING) in Python using the logging module?'''\n",
        "import logging\n",
        "\n",
        "# Configure logging settings\n",
        "logging.basicConfig(\n",
        "    filename='app.log',              # Log file name\n",
        "    level=logging.DEBUG,             # Minimum log level to capture\n",
        "    format='%(asctime)s - %(levelname)s - %(message)s'\n",
        ")\n",
        "\n",
        "# Logging at different levels\n",
        "logging.debug(\"This is a DEBUG message.\")\n",
        "logging.info(\"This is an INFO message.\")\n",
        "logging.warning(\"This is a WARNING message.\")\n",
        "logging.error(\"This is an ERROR message.\")\n",
        "logging.critical(\"This is a CRITICAL message.\")"
      ],
      "metadata": {
        "colab": {
          "base_uri": "https://localhost:8080/"
        },
        "id": "Aa1jR3Jo9_RT",
        "outputId": "c7563dc0-7b15-41f3-c073-4293b11517e4"
      },
      "execution_count": 5,
      "outputs": [
        {
          "output_type": "stream",
          "name": "stderr",
          "text": [
            "WARNING:root:This is a WARNING message.\n",
            "ERROR:root:This is an ERROR message.\n",
            "CRITICAL:root:This is a CRITICAL message.\n"
          ]
        }
      ]
    },
    {
      "cell_type": "code",
      "source": [
        "'''8. Write a program to handle a file opening error using exception handling'''\n",
        "filename = \"nonexistent_file.txt\"\n",
        "\n",
        "try:\n",
        "    with open(filename, 'r') as file:\n",
        "        content = file.read()\n",
        "        print(content)\n",
        "except FileNotFoundError:\n",
        "    print(f\"Error: The file '{filename}' was not found.\")\n",
        "except Exception as e:\n",
        "    print(f\"An unexpected error occurred: {e}\")"
      ],
      "metadata": {
        "colab": {
          "base_uri": "https://localhost:8080/"
        },
        "id": "1evKRa51-WZa",
        "outputId": "0142bd80-3a53-4baf-d3b8-c439b72a5402"
      },
      "execution_count": 7,
      "outputs": [
        {
          "output_type": "stream",
          "name": "stdout",
          "text": [
            "Error: The file 'nonexistent_file.txt' was not found.\n"
          ]
        }
      ]
    },
    {
      "cell_type": "code",
      "source": [
        "'''9. How can you read a file line by line and store its content in a list in Python'''\n",
        "filename = \"example.txt\"  #  file path\n",
        "\n",
        "try:\n",
        "    with open(filename, 'r') as file:\n",
        "        lines = file.readlines()  # Reads all lines into a list\n",
        "        print(lines)\n",
        "except FileNotFoundError:\n",
        "    print(f\"The file '{filename}' was not found.\")"
      ],
      "metadata": {
        "colab": {
          "base_uri": "https://localhost:8080/"
        },
        "id": "BPrRERBO-ioy",
        "outputId": "fb35e0a2-fa0d-402e-e9fd-b983869f53f1"
      },
      "execution_count": 9,
      "outputs": [
        {
          "output_type": "stream",
          "name": "stdout",
          "text": [
            "The file 'example.txt' was not found.\n"
          ]
        }
      ]
    },
    {
      "cell_type": "code",
      "source": [
        "'''10.  How can you append data to an existing file in Python'''\n",
        "filename = \"example.txt\"  # file name\n",
        "\n",
        "try:\n",
        "    with open(filename, 'a') as file:\n",
        "        file.write(\"\\nThis is the new line added to the file.\")\n",
        "    print(\"Data appended successfully.\")\n",
        "except FileNotFoundError:\n",
        "    print(f\"The file '{filename}' was not found.\")"
      ],
      "metadata": {
        "colab": {
          "base_uri": "https://localhost:8080/"
        },
        "id": "NaL9tqAJ-yDy",
        "outputId": "3c0a2ee3-3434-453b-a181-7af154697ae1"
      },
      "execution_count": 11,
      "outputs": [
        {
          "output_type": "stream",
          "name": "stdout",
          "text": [
            "Data appended successfully.\n"
          ]
        }
      ]
    },
    {
      "cell_type": "code",
      "source": [
        "'''11. Write a Python program that uses a try-except block to handle an error when attempting to access a\n",
        "dictionary key that doesn't exist'''\n",
        "# Sample dictionary\n",
        "student_scores = {\n",
        "    \"Alice\": 85,\n",
        "    \"Bob\": 92,\n",
        "    \"Charlie\": 78\n",
        "}\n",
        "\n",
        "# Try to access a key\n",
        "try:\n",
        "    print(\"Eve's score:\", student_scores[\"Eve\"])\n",
        "except KeyError:\n",
        "    print(\"Error: 'Eve' key does not exist in the dictionary.\")"
      ],
      "metadata": {
        "colab": {
          "base_uri": "https://localhost:8080/"
        },
        "id": "dIqtox3J_WBi",
        "outputId": "7af680af-9d0a-4e88-cdb1-57ca8c444c02"
      },
      "execution_count": 13,
      "outputs": [
        {
          "output_type": "stream",
          "name": "stdout",
          "text": [
            "Error: 'Eve' key does not exist in the dictionary.\n"
          ]
        }
      ]
    },
    {
      "cell_type": "code",
      "source": [
        "'''12.  Write a program that demonstrates using multiple except blocks to handle different types of exceptions'''\n",
        "try:\n",
        "    num = int(input(\"Enter a number: \"))\n",
        "    result = 10 / num\n",
        "    my_list = [1, 2, 3]\n",
        "    print(my_list[num])  # Trying to access index\n",
        "except ValueError:\n",
        "    print(\"ValueError: Please enter a valid integer.\")\n",
        "except ZeroDivisionError:\n",
        "    print(\"ZeroDivisionError: Cannot divide by zero.\")\n",
        "except IndexError:\n",
        "    print(\"IndexError: List index out of range.\")"
      ],
      "metadata": {
        "colab": {
          "base_uri": "https://localhost:8080/"
        },
        "id": "IPW96jVG_hdN",
        "outputId": "25756750-5779-4ee0-8660-e5a6acce76c6"
      },
      "execution_count": 15,
      "outputs": [
        {
          "output_type": "stream",
          "name": "stdout",
          "text": [
            "Enter a number: 5\n",
            "IndexError: List index out of range.\n"
          ]
        }
      ]
    },
    {
      "cell_type": "code",
      "source": [
        "'''13. How would you check if a file exists before attempting to read it in Python'''\n",
        "import os\n",
        "\n",
        "filename = \"example.txt\"\n",
        "\n",
        "if os.path.exists(filename):\n",
        "    with open(filename, 'r') as file:\n",
        "        content = file.read()\n",
        "        print(content)\n",
        "else:\n",
        "    print(\"The file does not exist.\")"
      ],
      "metadata": {
        "colab": {
          "base_uri": "https://localhost:8080/"
        },
        "id": "GR5dlkkC_5NX",
        "outputId": "77cbedaf-869e-4c88-9298-b44bb33f2eda"
      },
      "execution_count": 16,
      "outputs": [
        {
          "output_type": "stream",
          "name": "stdout",
          "text": [
            "\n",
            "This is the new line added to the file.\n",
            "This is the new line added to the file.\n"
          ]
        }
      ]
    },
    {
      "cell_type": "code",
      "source": [
        "'''14. Write a program that uses the logging module to log both informational and error messages'''\n",
        "import logging\n",
        "\n",
        "# Configure logging\n",
        "logging.basicConfig(filename='app.log', level=logging.DEBUG,\n",
        "                    format='%(asctime)s - %(levelname)s - %(message)s')\n",
        "\n",
        "# Log an informational message\n",
        "logging.info(\"Program started successfully.\")\n",
        "\n",
        "try:\n",
        "    # Simulating a task\n",
        "    result = 10 / 0  # This will raise a ZeroDivisionError\n",
        "except ZeroDivisionError as e:\n",
        "    # Log an error message\n",
        "    logging.error(f\"An error occurred: {e}\")\n",
        "\n",
        "# Log another informational message\n",
        "logging.info(\"Program ended.\")\n"
      ],
      "metadata": {
        "colab": {
          "base_uri": "https://localhost:8080/"
        },
        "id": "GZf7mH17APHv",
        "outputId": "755200f1-5db9-43a9-ed10-48710bdc0e89"
      },
      "execution_count": 18,
      "outputs": [
        {
          "output_type": "stream",
          "name": "stderr",
          "text": [
            "ERROR:root:An error occurred: division by zero\n"
          ]
        }
      ]
    },
    {
      "cell_type": "code",
      "source": [
        "'''15.  Write a Python program that prints the content of a file and handles the case when the file is empty'''\n",
        "filename = 'example.txt'  # Replace with your file name\n",
        "\n",
        "try:\n",
        "    with open(filename, 'r') as file:\n",
        "        content = file.read()\n",
        "        if content:\n",
        "            print(content)\n",
        "        else:\n",
        "            print(\"The file is empty.\")\n",
        "except FileNotFoundError:\n",
        "   print(f\"The file '{filename}' does not exist.\")\n",
        "except Exception as e:\n",
        "    print(f\"An error occurred: {e}\")\n"
      ],
      "metadata": {
        "colab": {
          "base_uri": "https://localhost:8080/"
        },
        "id": "9GZLAHSyAh3J",
        "outputId": "8db24a72-945f-45ed-f5cf-7f589aa1d098"
      },
      "execution_count": 20,
      "outputs": [
        {
          "output_type": "stream",
          "name": "stdout",
          "text": [
            "\n",
            "This is the new line added to the file.\n",
            "This is the new line added to the file.\n"
          ]
        }
      ]
    },
    {
      "cell_type": "code",
      "source": [
        "'''16.  Demonstrate how to use memory profiling to check the memory usage of a small program'''\n",
        "!pip install memory_profiler\n",
        "from memory_profiler import memory_usage\n",
        "\n",
        "def my_function():\n",
        "    a = [i ** 2 for i in range(100000)]\n",
        "    return a\n",
        "\n",
        "mem_usage = memory_usage(my_function)\n",
        "print(f\"Memory usage over time: {mem_usage}\")\n",
        "print(f\"Max memory used: {max(mem_usage)} MB\")"
      ],
      "metadata": {
        "colab": {
          "base_uri": "https://localhost:8080/"
        },
        "id": "ckAa3pKiArHI",
        "outputId": "341a2d78-c371-423d-a789-8ea65ea668d2"
      },
      "execution_count": 23,
      "outputs": [
        {
          "output_type": "stream",
          "name": "stdout",
          "text": [
            "Requirement already satisfied: memory_profiler in /usr/local/lib/python3.11/dist-packages (0.61.0)\n",
            "Requirement already satisfied: psutil in /usr/local/lib/python3.11/dist-packages (from memory_profiler) (5.9.5)\n",
            "Memory usage over time: [108.55078125, 108.55859375, 108.55859375, 108.55859375, 108.55859375, 108.91015625, 109.32421875, 109.49609375, 109.49609375, 109.53515625, 109.53515625, 108.55078125, 107.56640625, 107.56640625]\n",
            "Max memory used: 109.53515625 MB\n"
          ]
        }
      ]
    },
    {
      "cell_type": "code",
      "source": [
        "'''17. Write a Python program to create and write a list of numbers to a file, one number per line'''\n",
        "# List of numbers to write to the file\n",
        "numbers = [1, 2, 3, 4, 5, 6, 7, 8, 9, 10]\n",
        "\n",
        "# Open the file in write mode ('w'). This will create the file if it doesn't exist.\n",
        "with open(\"numbers.txt\", \"w\") as file:\n",
        "    for number in numbers:\n",
        "        file.write(str(number) + \"\\n\")  # Write each number followed by a newline\n",
        "# Now read the file and print its content\n",
        "with open(\"numbers.txt\", \"r\") as file:\n",
        "    content = file.read()\n",
        "    print(content)"
      ],
      "metadata": {
        "colab": {
          "base_uri": "https://localhost:8080/"
        },
        "id": "4gWIGZ1wB6FY",
        "outputId": "e69be47f-ee93-474d-da64-3917b8c58196"
      },
      "execution_count": 28,
      "outputs": [
        {
          "output_type": "stream",
          "name": "stdout",
          "text": [
            "1\n",
            "2\n",
            "3\n",
            "4\n",
            "5\n",
            "6\n",
            "7\n",
            "8\n",
            "9\n",
            "10\n",
            "\n"
          ]
        }
      ]
    },
    {
      "cell_type": "code",
      "source": [
        "'''18.  How would you implement a basic logging setup that logs to a file with rotation after 1MB'''\n",
        "import logging\n",
        "from logging.handlers import RotatingFileHandler\n",
        "\n",
        "# Create logger\n",
        "logger = logging.getLogger('my_logger')\n",
        "logger.setLevel(logging.DEBUG)  # Log all levels DEBUG and above\n",
        "\n",
        "# Create rotating file handler (max size 1MB, keep 3 backup files)\n",
        "handler = RotatingFileHandler('app.log', maxBytes=1_000_000, backupCount=3)\n",
        "handler.setLevel(logging.DEBUG)\n",
        "\n",
        "# Create formatter and set it to the handler\n",
        "formatter = logging.Formatter('%(asctime)s - %(levelname)s - %(message)s')\n",
        "handler.setFormatter(formatter)\n",
        "\n",
        "# Add handler to logger\n",
        "logger.addHandler(handler)\n",
        "\n",
        "# Example logs\n",
        "logger.info(\"This is an info message.\")\n",
        "logger.error(\"This is an error message.\")\n"
      ],
      "metadata": {
        "colab": {
          "base_uri": "https://localhost:8080/"
        },
        "id": "e70g-p7HCToC",
        "outputId": "6a088edf-e445-45cd-9d7f-a79ecd184db3"
      },
      "execution_count": 30,
      "outputs": [
        {
          "output_type": "stream",
          "name": "stderr",
          "text": [
            "INFO:my_logger:This is an info message.\n",
            "ERROR:my_logger:This is an error message.\n"
          ]
        }
      ]
    },
    {
      "cell_type": "code",
      "source": [
        "'''19.  Write a program that handles both IndexError and KeyError using a try-except block'''\n",
        "my_list = [10, 20, 30]\n",
        "my_dict = {'a': 1, 'b': 2}\n",
        "\n",
        "try:\n",
        "    # Trying to access an index that might not exist\n",
        "    print(my_list[5])\n",
        "\n",
        "    # Trying to access a key that might not exist\n",
        "    print(my_dict['z'])\n",
        "\n",
        "except IndexError:\n",
        "    print(\"Caught an IndexError: List index is out of range.\")\n",
        "\n",
        "except KeyError:\n",
        "    print(\"Caught a KeyError: Key does not exist in the dictionary.\")\n"
      ],
      "metadata": {
        "colab": {
          "base_uri": "https://localhost:8080/"
        },
        "id": "cmBN6q1RDBdz",
        "outputId": "57bb2821-829f-4d40-a2ac-8390866d2577"
      },
      "execution_count": 32,
      "outputs": [
        {
          "output_type": "stream",
          "name": "stdout",
          "text": [
            "Caught an IndexError: List index is out of range.\n"
          ]
        }
      ]
    },
    {
      "cell_type": "code",
      "source": [
        "'''20. ow would you open a file and read its contents using a context manager in Python'''\n",
        "with open('filename.txt', 'r') as file:\n",
        "    contents = file.read()\n",
        "    print(contents)\n"
      ],
      "metadata": {
        "id": "MbA4MNCJDD4u"
      },
      "execution_count": 33,
      "outputs": []
    },
    {
      "cell_type": "code",
      "source": [
        "'''21. Write a Python program that reads a file and prints the number of occurrences of a specific word'''\n",
        "def count_word_occurrences(filename, word):\n",
        "    count = 0\n",
        "    word = word.lower()  # To make counting case-insensitive\n",
        "    with open(filename, 'r') as file:\n",
        "        for line in file:\n",
        "            words = line.lower().split()  # Split line into words, lowercase\n",
        "            count += words.count(word)    # Count occurrences in this line\n",
        "    return count\n",
        "\n",
        "# Example usage:\n",
        "filename = 'yourfile.txt'   # file name\n",
        "word_to_count = 'python'    # Replace with the word you want to count\n",
        "\n",
        "occurrences = count_word_occurrences(filename, word_to_count)\n",
        "print(f\"The word '{word_to_count}' appears {occurrences} times in the file.\")\n"
      ],
      "metadata": {
        "id": "D-qCn8ZKDgC7"
      },
      "execution_count": 34,
      "outputs": []
    },
    {
      "cell_type": "code",
      "source": [
        "'''22. how can you check if a file is empty before attempting to read its contents'''\n",
        "import os\n",
        "\n",
        "filename = 'yourfile.txt'  # Replace with your file name\n",
        "\n",
        "# Check if file exists and is not empty\n",
        "if os.path.exists(filename) and os.path.getsize(filename) > 0:\n",
        "    with open(filename, 'r') as file:\n",
        "        content = file.read()\n",
        "        print(\"File content:\")\n",
        "        print(content)\n",
        "else:\n",
        "    print(\"The file is empty or does not exist.\")\n"
      ],
      "metadata": {
        "colab": {
          "base_uri": "https://localhost:8080/"
        },
        "id": "5Jjg-k5mDweb",
        "outputId": "71257e1f-81e3-44ef-ead8-67e92a834aa2"
      },
      "execution_count": 35,
      "outputs": [
        {
          "output_type": "stream",
          "name": "stdout",
          "text": [
            "The file is empty or does not exist.\n"
          ]
        }
      ]
    },
    {
      "cell_type": "code",
      "source": [
        "'''23. Write a Python program that writes to a log file when an error occurs during file handling.'''\n",
        "import logging\n",
        "\n",
        "# Setup logging configuration\n",
        "logging.basicConfig(filename='file_errors.log',\n",
        "                    level=logging.ERROR,\n",
        "                    format='%(asctime)s - %(levelname)s - %(message)s')\n",
        "\n",
        "try:\n",
        "    # Attempt to open and read a file\n",
        "    with open('somefile.txt', 'r') as file:\n",
        "        content = file.read()\n",
        "        print(content)\n",
        "\n",
        "except Exception as e:\n",
        "    # Log any error that occurs\n",
        "    logging.error(f\"Error occurred while handling the file: {e}\")\n",
        "    print(\"An error occurred. Please check the log file.\")\n"
      ],
      "metadata": {
        "colab": {
          "base_uri": "https://localhost:8080/"
        },
        "id": "Yg-8X_LKEHDz",
        "outputId": "92fadc36-f335-4442-8a3e-ac0caf03a8f2"
      },
      "execution_count": 36,
      "outputs": [
        {
          "output_type": "stream",
          "name": "stderr",
          "text": [
            "ERROR:root:Error occurred while handling the file: [Errno 2] No such file or directory: 'somefile.txt'\n"
          ]
        },
        {
          "output_type": "stream",
          "name": "stdout",
          "text": [
            "An error occurred. Please check the log file.\n"
          ]
        }
      ]
    }
  ]
}